{
 "cells": [
  {
   "cell_type": "markdown",
   "id": "d05fca61",
   "metadata": {},
   "source": [
    "# 0.0 Bibliotecas"
   ]
  },
  {
   "cell_type": "code",
   "execution_count": 1,
   "id": "66ef6d3e",
   "metadata": {
    "ExecuteTime": {
     "end_time": "2023-05-10T00:49:20.833318Z",
     "start_time": "2023-05-10T00:49:20.637108Z"
    }
   },
   "outputs": [],
   "source": [
    "import pandas as pd"
   ]
  },
  {
   "cell_type": "markdown",
   "id": "5ed579b4",
   "metadata": {},
   "source": [
    "# 1.0 Extração dos Dados"
   ]
  },
  {
   "cell_type": "code",
   "execution_count": 2,
   "id": "96eaab8e",
   "metadata": {
    "ExecuteTime": {
     "end_time": "2023-05-10T00:51:18.234934Z",
     "start_time": "2023-05-10T00:51:18.223911Z"
    }
   },
   "outputs": [],
   "source": [
    "data = pd.read_csv('dataset/insurance.csv')"
   ]
  },
  {
   "cell_type": "markdown",
   "id": "c4d5c51b",
   "metadata": {},
   "source": [
    "# 2.0 Entendendo os Dados"
   ]
  },
  {
   "cell_type": "code",
   "execution_count": 10,
   "id": "e8954775",
   "metadata": {
    "ExecuteTime": {
     "end_time": "2023-05-10T01:45:43.840924Z",
     "start_time": "2023-05-10T01:45:43.832030Z"
    }
   },
   "outputs": [],
   "source": [
    "# verifica as cinco primeiras linhas\n",
    "data.head()"
   ]
  },
  {
   "cell_type": "code",
   "execution_count": 9,
   "id": "9d8ec928",
   "metadata": {
    "ExecuteTime": {
     "end_time": "2023-05-10T01:45:33.849305Z",
     "start_time": "2023-05-10T01:45:33.841819Z"
    }
   },
   "outputs": [],
   "source": [
    "# tamanho do dataset\n",
    "data.head()"
   ]
  }
 ],
 "metadata": {
  "kernelspec": {
   "display_name": "Python 3 (ipykernel)",
   "language": "python",
   "name": "python3"
  },
  "language_info": {
   "codemirror_mode": {
    "name": "ipython",
    "version": 3
   },
   "file_extension": ".py",
   "mimetype": "text/x-python",
   "name": "python",
   "nbconvert_exporter": "python",
   "pygments_lexer": "ipython3",
   "version": "3.9.12"
  },
  "varInspector": {
   "cols": {
    "lenName": 16,
    "lenType": 16,
    "lenVar": 40
   },
   "kernels_config": {
    "python": {
     "delete_cmd_postfix": "",
     "delete_cmd_prefix": "del ",
     "library": "var_list.py",
     "varRefreshCmd": "print(var_dic_list())"
    },
    "r": {
     "delete_cmd_postfix": ") ",
     "delete_cmd_prefix": "rm(",
     "library": "var_list.r",
     "varRefreshCmd": "cat(var_dic_list()) "
    }
   },
   "types_to_exclude": [
    "module",
    "function",
    "builtin_function_or_method",
    "instance",
    "_Feature"
   ],
   "window_display": false
  }
 },
 "nbformat": 4,
 "nbformat_minor": 5
}
