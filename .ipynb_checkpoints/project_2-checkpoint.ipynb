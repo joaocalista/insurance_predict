{
 "cells": [
  {
   "cell_type": "markdown",
   "id": "d05fca61",
   "metadata": {},
   "source": [
    "# 0.0. Importações"
   ]
  },
  {
   "cell_type": "code",
   "execution_count": 1,
   "id": "66ef6d3e",
   "metadata": {
    "ExecuteTime": {
     "end_time": "2023-06-12T00:57:11.330696Z",
     "start_time": "2023-06-12T00:57:10.343151Z"
    }
   },
   "outputs": [],
   "source": [
    "import pandas as pd\n",
    "import matplotlib.pyplot as plt\n",
    "import numpy as np\n",
    "import seaborn as sns\n",
    "import plotly.express as px\n",
    "import plotly.graph_objects as go\n",
    "from xgboost import XGBRegressor\n",
    "from plotly.subplots import make_subplots\n",
    "from sklearn.model_selection import train_test_split\n",
    "from sklearn.pipeline import Pipeline\n",
    "from sklearn.preprocessing import OneHotEncoder, MinMaxScaler\n",
    "from category_encoders import TargetEncoder\n",
    "from sklearn.linear_model import LinearRegression, Lasso, ElasticNet\n",
    "from sklearn.metrics import mean_absolute_error, mean_absolute_percentage_error, mean_squared_error, make_scorer\n",
    "from sklearn.ensemble import RandomForestRegressor\n",
    "from sklearn.model_selection import cross_val_score, KFold, cross_validate"
   ]
  },
  {
   "cell_type": "markdown",
   "id": "4a95a0a9",
   "metadata": {},
   "source": [
    "## 0.1. Funcoes"
   ]
  },
  {
   "cell_type": "code",
   "execution_count": 2,
   "id": "b1d0013c",
   "metadata": {
    "ExecuteTime": {
     "end_time": "2023-06-12T00:57:11.339511Z",
     "start_time": "2023-06-12T00:57:11.334738Z"
    }
   },
   "outputs": [],
   "source": [
    "#retorna um dataframe contendo informações sobre os erros (MAE, MAPE e RMSE)\n",
    "def ml_error(model_name, y_true, y_hat):\n",
    "    mae = mean_absolute_error(y_true, y_hat)\n",
    "    mape = mean_absolute_percentage_error(y_true, y_hat)\n",
    "    rmse = np.sqrt(mean_squared_error(y_true, y_hat))\n",
    "    \n",
    "    return pd.DataFrame({'Model Name': [model_name],\n",
    "                        'MAE': [mae],\n",
    "                        'MAPE': [mape],\n",
    "                        'RMSE': [rmse]}).round(4)\n",
    "\n",
    "\n",
    "#funcao que aplica cross-validation em um dataset e retorna métricas como MAE, MAPE e RMSE e seus desvios padrões\n",
    "def cross_validation(model_name, model, X, y, cv):\n",
    "    k = cv\n",
    "    kf = KFold(n_splits=k)\n",
    "\n",
    "    scoring = {\n",
    "        'MAE': make_scorer(mean_absolute_error),\n",
    "        'MAPE': make_scorer(mean_absolute_percentage_error),\n",
    "        'RMSE': make_scorer(mean_squared_error, squared=False)\n",
    "    }\n",
    "\n",
    "    results = cross_validate(model, X, y, cv=kf, scoring=scoring)\n",
    "\n",
    "    mae_scores = results['test_MAE']\n",
    "    mape_scores = results['test_MAPE']\n",
    "    rmse_scores = results['test_RMSE']\n",
    "        \n",
    "    return pd.DataFrame({\n",
    "        'Model Name': [model_name],\n",
    "        'MAE': [f'{round(mae_scores.mean(), 2)} +- {round(mae_scores.std(), 2)}'],\n",
    "        'MAPE': [f'{round(mape_scores.mean(), 2)} +- {round(mape_scores.std(), 2)}'],\n",
    "        'RMSE': [f'{round(rmse_scores.mean(), 2)} +- {round(rmse_scores.std(), 2)}'],\n",
    "    })"
   ]
  },
  {
   "cell_type": "markdown",
   "id": "5ed579b4",
   "metadata": {},
   "source": [
    "## 0.1. Extração dos Dados"
   ]
  },
  {
   "cell_type": "code",
   "execution_count": 3,
   "id": "96eaab8e",
   "metadata": {
    "ExecuteTime": {
     "end_time": "2023-06-12T00:57:11.355011Z",
     "start_time": "2023-06-12T00:57:11.340851Z"
    }
   },
   "outputs": [],
   "source": [
    "df_raw = pd.read_csv('dataset/insurance.csv')"
   ]
  },
  {
   "cell_type": "markdown",
   "id": "c4d5c51b",
   "metadata": {},
   "source": [
    "# 1.0. Entendendo os Dados"
   ]
  },
  {
   "cell_type": "code",
   "execution_count": 4,
   "id": "163d4a50",
   "metadata": {
    "ExecuteTime": {
     "end_time": "2023-06-12T00:57:11.358637Z",
     "start_time": "2023-06-12T00:57:11.356310Z"
    }
   },
   "outputs": [],
   "source": [
    "df1 = df_raw.copy()"
   ]
  },
  {
   "cell_type": "code",
   "execution_count": 5,
   "id": "e8954775",
   "metadata": {
    "ExecuteTime": {
     "end_time": "2023-06-12T00:57:11.368189Z",
     "start_time": "2023-06-12T00:57:11.359814Z"
    }
   },
   "outputs": [
    {
     "data": {
      "text/html": [
       "<div>\n",
       "<style scoped>\n",
       "    .dataframe tbody tr th:only-of-type {\n",
       "        vertical-align: middle;\n",
       "    }\n",
       "\n",
       "    .dataframe tbody tr th {\n",
       "        vertical-align: top;\n",
       "    }\n",
       "\n",
       "    .dataframe thead th {\n",
       "        text-align: right;\n",
       "    }\n",
       "</style>\n",
       "<table border=\"1\" class=\"dataframe\">\n",
       "  <thead>\n",
       "    <tr style=\"text-align: right;\">\n",
       "      <th></th>\n",
       "      <th>age</th>\n",
       "      <th>sex</th>\n",
       "      <th>bmi</th>\n",
       "      <th>children</th>\n",
       "      <th>smoker</th>\n",
       "      <th>region</th>\n",
       "      <th>charges</th>\n",
       "    </tr>\n",
       "  </thead>\n",
       "  <tbody>\n",
       "    <tr>\n",
       "      <th>0</th>\n",
       "      <td>19</td>\n",
       "      <td>female</td>\n",
       "      <td>27.900</td>\n",
       "      <td>0</td>\n",
       "      <td>yes</td>\n",
       "      <td>southwest</td>\n",
       "      <td>16884.92400</td>\n",
       "    </tr>\n",
       "    <tr>\n",
       "      <th>1</th>\n",
       "      <td>18</td>\n",
       "      <td>male</td>\n",
       "      <td>33.770</td>\n",
       "      <td>1</td>\n",
       "      <td>no</td>\n",
       "      <td>southeast</td>\n",
       "      <td>1725.55230</td>\n",
       "    </tr>\n",
       "    <tr>\n",
       "      <th>2</th>\n",
       "      <td>28</td>\n",
       "      <td>male</td>\n",
       "      <td>33.000</td>\n",
       "      <td>3</td>\n",
       "      <td>no</td>\n",
       "      <td>southeast</td>\n",
       "      <td>4449.46200</td>\n",
       "    </tr>\n",
       "    <tr>\n",
       "      <th>3</th>\n",
       "      <td>33</td>\n",
       "      <td>male</td>\n",
       "      <td>22.705</td>\n",
       "      <td>0</td>\n",
       "      <td>no</td>\n",
       "      <td>northwest</td>\n",
       "      <td>21984.47061</td>\n",
       "    </tr>\n",
       "    <tr>\n",
       "      <th>4</th>\n",
       "      <td>32</td>\n",
       "      <td>male</td>\n",
       "      <td>28.880</td>\n",
       "      <td>0</td>\n",
       "      <td>no</td>\n",
       "      <td>northwest</td>\n",
       "      <td>3866.85520</td>\n",
       "    </tr>\n",
       "  </tbody>\n",
       "</table>\n",
       "</div>"
      ],
      "text/plain": [
       "   age     sex     bmi  children smoker     region      charges\n",
       "0   19  female  27.900         0    yes  southwest  16884.92400\n",
       "1   18    male  33.770         1     no  southeast   1725.55230\n",
       "2   28    male  33.000         3     no  southeast   4449.46200\n",
       "3   33    male  22.705         0     no  northwest  21984.47061\n",
       "4   32    male  28.880         0     no  northwest   3866.85520"
      ]
     },
     "execution_count": 5,
     "metadata": {},
     "output_type": "execute_result"
    }
   ],
   "source": [
    "# verifica as cinco primeiras linhas\n",
    "df1.head()"
   ]
  },
  {
   "cell_type": "markdown",
   "id": "9001c24b",
   "metadata": {},
   "source": [
    "## 1.1. Dimensões do dataset (linhas x colunas)"
   ]
  },
  {
   "cell_type": "code",
   "execution_count": 6,
   "id": "9d8ec928",
   "metadata": {
    "ExecuteTime": {
     "end_time": "2023-06-12T00:57:11.371522Z",
     "start_time": "2023-06-12T00:57:11.369415Z"
    },
    "scrolled": true
   },
   "outputs": [
    {
     "name": "stdout",
     "output_type": "stream",
     "text": [
      "O dataset tem 1338 linhas e 7 colunas.\n"
     ]
    }
   ],
   "source": [
    "print(f'O dataset tem {df1.shape[0]} linhas e {df1.shape[1]} colunas.')"
   ]
  },
  {
   "cell_type": "markdown",
   "id": "24a7e0d1",
   "metadata": {},
   "source": [
    "O dataset contém 7 colunas, sendo elas:\n",
    "- age : Idade do cliente\n",
    "- sex : O sexo do cliente\n",
    "- bmi : IMC do cliente\n",
    "- children : Quantidade de dependentes\n",
    "- smoker : variável que informa se o cliente é fumante ou não\n",
    "- region : região em que o cliente mora\n",
    "- charges : Valor anual pago pelo cliente (em dólares americanos)"
   ]
  },
  {
   "cell_type": "markdown",
   "id": "c1b439c1",
   "metadata": {},
   "source": [
    "## 1.2. Tipos de dados"
   ]
  },
  {
   "cell_type": "code",
   "execution_count": 7,
   "id": "304ca243",
   "metadata": {
    "ExecuteTime": {
     "end_time": "2023-06-12T00:57:11.375960Z",
     "start_time": "2023-06-12T00:57:11.372564Z"
    }
   },
   "outputs": [
    {
     "data": {
      "text/plain": [
       "age           int64\n",
       "sex          object\n",
       "bmi         float64\n",
       "children      int64\n",
       "smoker       object\n",
       "region       object\n",
       "charges     float64\n",
       "dtype: object"
      ]
     },
     "execution_count": 7,
     "metadata": {},
     "output_type": "execute_result"
    }
   ],
   "source": [
    "df1.dtypes"
   ]
  },
  {
   "cell_type": "markdown",
   "id": "a12d1059",
   "metadata": {},
   "source": [
    "## 1.3. Verifica se há valores faltantes"
   ]
  },
  {
   "cell_type": "code",
   "execution_count": 8,
   "id": "6b75d5bb",
   "metadata": {
    "ExecuteTime": {
     "end_time": "2023-06-12T00:57:11.381045Z",
     "start_time": "2023-06-12T00:57:11.377543Z"
    }
   },
   "outputs": [
    {
     "data": {
      "text/plain": [
       "age         0\n",
       "sex         0\n",
       "bmi         0\n",
       "children    0\n",
       "smoker      0\n",
       "region      0\n",
       "charges     0\n",
       "dtype: int64"
      ]
     },
     "execution_count": 8,
     "metadata": {},
     "output_type": "execute_result"
    }
   ],
   "source": [
    "df1.isna().sum()"
   ]
  },
  {
   "cell_type": "markdown",
   "id": "734f37ca",
   "metadata": {},
   "source": [
    "## 1.4. Estatística Descritiva"
   ]
  },
  {
   "cell_type": "code",
   "execution_count": null,
   "id": "14c4d841",
   "metadata": {
    "ExecuteTime": {
     "start_time": "2023-06-12T00:57:10.349Z"
    }
   },
   "outputs": [],
   "source": [
    "num_attributes = df1.select_dtypes(include=['int', 'float'])\n",
    "cat_attributes = df1.select_dtypes(include=['object'])"
   ]
  },
  {
   "cell_type": "markdown",
   "id": "59962a05",
   "metadata": {},
   "source": [
    "### 1.4.1. Atributos Numéricos"
   ]
  },
  {
   "cell_type": "code",
   "execution_count": null,
   "id": "6e4e54a7",
   "metadata": {
    "ExecuteTime": {
     "start_time": "2023-06-12T00:57:10.359Z"
    }
   },
   "outputs": [],
   "source": [
    "# Tendencia Central - Media, mediana\n",
    "# Dispercao - std, min, max, range, skew, kurtosis\n",
    "\n",
    "num_statistics = pd.DataFrame({'min': num_attributes.min(),\n",
    "                               'max': num_attributes.max(),\n",
    "                               'media': num_attributes.mean(),\n",
    "                               'mediana': num_attributes.median(),\n",
    "                               'desvio_padrao': num_attributes.std(),\n",
    "                               'amplitude': num_attributes.max() - num_attributes.min(),\n",
    "                               'skewness' : num_attributes.skew(),\n",
    "                               'curtose' : num_attributes.kurtosis()})\n",
    "\n",
    "num_statistics"
   ]
  },
  {
   "cell_type": "markdown",
   "id": "212be593",
   "metadata": {},
   "source": [
    "## 1.4.2. Atributos Categóricos"
   ]
  },
  {
   "cell_type": "code",
   "execution_count": null,
   "id": "a1a8adaf",
   "metadata": {
    "ExecuteTime": {
     "start_time": "2023-06-12T00:57:10.361Z"
    }
   },
   "outputs": [],
   "source": [
    "# numero de valores unicos para cada variavel\n",
    "cat_attributes.apply(lambda x: x.nunique(), axis=0)"
   ]
  },
  {
   "cell_type": "code",
   "execution_count": null,
   "id": "7bb07a4a",
   "metadata": {
    "ExecuteTime": {
     "start_time": "2023-06-12T00:57:10.362Z"
    },
    "scrolled": false
   },
   "outputs": [],
   "source": [
    "#cria o dashboard com 3 colunas e 1 linha\n",
    "fig = make_subplots(rows= 1, cols= 3)\n",
    "\n",
    "#cria graficos boxplot\n",
    "for i, col in enumerate(cat_attributes.columns):\n",
    "    fig.add_trace(go.Box(x = df1[col],\n",
    "                         y = df1['charges'],\n",
    "                         name= col), row=1, col=i+1)\n",
    "    \n",
    "# Atualiza o layout do dashboard\n",
    "fig.update_layout(height=600, width=900, \n",
    "                  title_text=\"Dados Categóricos x Valor Pago Pelo Cliente\", \n",
    "                  title=dict(x=0.5))\n",
    "\n",
    "# Exibe o dashboard\n",
    "fig.show()"
   ]
  },
  {
   "cell_type": "markdown",
   "id": "9097b715",
   "metadata": {},
   "source": [
    "# 2.0. Análise Exploratória Dos Dados"
   ]
  },
  {
   "cell_type": "code",
   "execution_count": null,
   "id": "cdda6b39",
   "metadata": {
    "ExecuteTime": {
     "start_time": "2023-06-12T00:57:10.364Z"
    }
   },
   "outputs": [],
   "source": [
    "df2 = df1.copy()"
   ]
  },
  {
   "cell_type": "markdown",
   "id": "6dfc20a8",
   "metadata": {},
   "source": [
    "## 2.1. Análise Univariada"
   ]
  },
  {
   "cell_type": "markdown",
   "id": "9ba3b397",
   "metadata": {},
   "source": [
    "### Variável Resposta"
   ]
  },
  {
   "cell_type": "code",
   "execution_count": null,
   "id": "942f4a16",
   "metadata": {
    "ExecuteTime": {
     "start_time": "2023-06-12T00:57:10.366Z"
    }
   },
   "outputs": [],
   "source": [
    "sns.kdeplot(df2['charges'], fill=True).set(title = 'Gráfico de Densidade para a Variável \"Charges\"');"
   ]
  },
  {
   "cell_type": "markdown",
   "id": "06f1ccae",
   "metadata": {},
   "source": [
    "### Variáveis Numéricas"
   ]
  },
  {
   "cell_type": "code",
   "execution_count": null,
   "id": "6f876e68",
   "metadata": {
    "ExecuteTime": {
     "start_time": "2023-06-12T00:57:10.368Z"
    },
    "scrolled": false
   },
   "outputs": [],
   "source": [
    "#cria o dashboard\n",
    "\n",
    "# Define o número de colunas do dashboard\n",
    "num_cols = 2\n",
    "\n",
    "# Calcula o número de linhas necessárias\n",
    "num_rows = len(num_attributes.columns) // num_cols + (len(num_attributes.columns) % num_cols > 0)\n",
    "\n",
    "fig = make_subplots(rows= num_rows, cols= num_cols)\n",
    "\n",
    "for i, column in enumerate(num_attributes.columns):\n",
    "    row = i // num_cols + 1\n",
    "    col = i % num_cols + 1\n",
    "    \n",
    "    fig.add_trace(go.Histogram(x=num_attributes[column], name = column), row= row, col=col)\n",
    "\n",
    "# Atualiza o layout do dashboard\n",
    "fig.update_layout(height=400*num_rows, width=900, title_text=\"Distribuição das Variáveis Numéricas\", bargap=0.4, title = dict(x=0.5))\n",
    "\n",
    "\n",
    "# Exibe o dashboard\n",
    "fig.show()"
   ]
  },
  {
   "cell_type": "markdown",
   "id": "88dcff01",
   "metadata": {},
   "source": [
    "### Variáveis Categóricas"
   ]
  },
  {
   "cell_type": "code",
   "execution_count": null,
   "id": "fddc9bd1",
   "metadata": {
    "ExecuteTime": {
     "start_time": "2023-06-12T00:57:10.370Z"
    },
    "scrolled": false
   },
   "outputs": [],
   "source": [
    "plt.figure(figsize=(20,12), )\n",
    "\n",
    "#sex\n",
    "plt.subplot(3,2,1)\n",
    "sns.countplot(data= df2, x = 'sex', palette='rocket').set(title='Distribuição das Variáveis Categóricas')\n",
    "\n",
    "plt.subplot(3,2,2)\n",
    "sns.kdeplot(data=df2[df2['sex'] == 'male']['charges'], \n",
    "            fill=True,\n",
    "            label='male')\n",
    "\n",
    "sns.kdeplot(data=df2[df2['sex'] == 'female']['charges'], \n",
    "            fill=True,\n",
    "            label='female').set(title='Distribuição das Variáveis Categóricas Em Relação ao Valor Pago Anualmente')\n",
    "\n",
    "plt.legend()\n",
    "\n",
    "#smoker\n",
    "plt.subplot(3,2,3)\n",
    "sns.countplot(data= df2, x = 'smoker', palette='rocket')\n",
    "\n",
    "plt.subplot(3,2,4)\n",
    "sns.kdeplot(data=df2[df2['smoker'] == 'yes']['charges'], \n",
    "            fill=True,\n",
    "            label='yes')\n",
    "\n",
    "sns.kdeplot(data=df2[df2['smoker'] == 'no']['charges'], \n",
    "            fill=True,\n",
    "            label='no')\n",
    "\n",
    "plt.legend()\n",
    "\n",
    "#region\n",
    "plt.subplot(3,2,5)\n",
    "sns.countplot(data= df2, x = 'region', palette='rocket')\n",
    "\n",
    "plt.subplot(3,2,6)\n",
    "sns.kdeplot(data=df2[df2['region'] == 'southwest']['charges'], \n",
    "            fill=True,\n",
    "            label='southwest')\n",
    "\n",
    "sns.kdeplot(data=df2[df2['region'] == 'southeast']['charges'], \n",
    "            fill=True,\n",
    "            label='southeast')\n",
    "\n",
    "sns.kdeplot(data=df2[df2['region'] == 'northwest']['charges'], \n",
    "            fill=True,\n",
    "            label='northwest')\n",
    "\n",
    "sns.kdeplot(data=df2[df2['region'] == 'northeast']['charges'], \n",
    "            fill=True,\n",
    "            label='northeast')\n",
    "\n",
    "plt.legend();"
   ]
  },
  {
   "cell_type": "markdown",
   "id": "eda2184e",
   "metadata": {},
   "source": [
    "## 2.2. Análise Bivariada"
   ]
  },
  {
   "cell_type": "markdown",
   "id": "1f21a9e9",
   "metadata": {
    "heading_collapsed": true
   },
   "source": [
    "### H1. Pessoas com 50 anos ou mais pagam, em média, mais que pessoas de idade inferior.\n"
   ]
  },
  {
   "cell_type": "markdown",
   "id": "3915ba8e",
   "metadata": {
    "hidden": true
   },
   "source": [
    "Verdade! Pessoas com 50 anos ou mais tendem a pagar 57% a mais, em média."
   ]
  },
  {
   "cell_type": "code",
   "execution_count": null,
   "id": "9aae2f68",
   "metadata": {
    "ExecuteTime": {
     "start_time": "2023-06-12T00:57:10.374Z"
    },
    "hidden": true
   },
   "outputs": [],
   "source": [
    "#cria dataset auxiliar\n",
    "df_temp = df2.copy()\n",
    "df_temp['>=50'] = 0\n",
    "df_temp.loc[df_temp['age'] >= 50, '>=50'] = 1\n",
    "aux = df_temp.groupby('>=50').agg({'charges' : 'mean'}).reset_index()\n",
    "\n",
    "#cria grafico\n",
    "fig = go.Figure()\n",
    "\n",
    "fig.add_trace(go.Bar(x = aux['>=50'], y=aux['charges']))\n",
    "\n",
    "fig.update_layout(xaxis_title = 'Possui idade igual ou superior a 50 anos?',\n",
    "                  yaxis_title = 'Valor Anual Pago',\n",
    "                  xaxis = (dict(ticktext = ['Não', 'Sim'],\n",
    "                                tickvals = [0, 1])))\n",
    "\n",
    "fig.show()"
   ]
  },
  {
   "cell_type": "code",
   "execution_count": null,
   "id": "f94b4e05",
   "metadata": {
    "ExecuteTime": {
     "start_time": "2023-06-12T00:57:10.376Z"
    },
    "hidden": true
   },
   "outputs": [],
   "source": [
    "#calculo\n",
    "\n",
    "round((aux[aux['>=50'] == 1]['charges'].item() / aux[aux['>=50'] == 0]['charges'].item() - 1)*100, 2)"
   ]
  },
  {
   "cell_type": "markdown",
   "id": "113cfc2a",
   "metadata": {
    "heading_collapsed": true
   },
   "source": [
    "### H2. Pessoas do sexo masculino pagam, em média, 10% a mais que pessoas do sexo feminino."
   ]
  },
  {
   "cell_type": "markdown",
   "id": "db9a0890",
   "metadata": {
    "hidden": true
   },
   "source": [
    "Verdade! Homens tendem a pagar 11% a mais que mulheres, em média."
   ]
  },
  {
   "cell_type": "code",
   "execution_count": null,
   "id": "7b7f2750",
   "metadata": {
    "ExecuteTime": {
     "start_time": "2023-06-12T00:57:10.379Z"
    },
    "hidden": true
   },
   "outputs": [],
   "source": [
    "#cria dataset auxiliar\n",
    "aux = df_temp.groupby('sex').agg({'charges' : 'mean'}).reset_index()\n",
    "\n",
    "#cria grafico\n",
    "fig = go.Figure()\n",
    "\n",
    "fig.add_trace(go.Bar(x = aux['sex'], y=aux['charges']))\n",
    "\n",
    "fig.update_layout(title_text = 'Sexo x Valor Anual Pago',\n",
    "                  title = dict(x = 0.5))\n",
    "\n",
    "fig.show()"
   ]
  },
  {
   "cell_type": "code",
   "execution_count": null,
   "id": "41973e2f",
   "metadata": {
    "ExecuteTime": {
     "start_time": "2023-06-12T00:57:10.381Z"
    },
    "hidden": true
   },
   "outputs": [],
   "source": [
    "# calculo\n",
    "\n",
    "((aux.loc[aux['sex'] == 'male', 'charges'].item() / aux.loc[aux['sex'] == 'female', 'charges'].item()) - 1) * 100"
   ]
  },
  {
   "cell_type": "markdown",
   "id": "52c4065b",
   "metadata": {
    "heading_collapsed": true
   },
   "source": [
    "### H3. Pessoas com IMC igual ou maior a 30 pagam, em média, 50% a mais que pessoas com imc abaixo de 30.\n"
   ]
  },
  {
   "cell_type": "markdown",
   "id": "a3698db1",
   "metadata": {
    "hidden": true
   },
   "source": [
    "Parcialmente verdade! Pessoas com IMC igual ou superior a 30 tendem a pagar, em média, 45% a mais."
   ]
  },
  {
   "cell_type": "code",
   "execution_count": null,
   "id": "50ffa5db",
   "metadata": {
    "ExecuteTime": {
     "start_time": "2023-06-12T00:57:10.383Z"
    },
    "hidden": true
   },
   "outputs": [],
   "source": [
    "#cria dataset auxiliar\n",
    "df_temp = df2.copy()\n",
    "df_temp['>=30'] = 0\n",
    "df_temp.loc[df_temp['bmi'] >= 30, '>=30'] = 1\n",
    "aux = df_temp.groupby('>=30').agg({'charges' : 'mean'}).reset_index()\n",
    "\n",
    "#cria grafico\n",
    "fig = go.Figure()\n",
    "\n",
    "fig.add_trace(go.Bar(x = aux['>=30'], y=aux['charges']))\n",
    "\n",
    "fig.update_layout(xaxis_title = 'Possui IMC igual ou superior a 30?',\n",
    "                  title_text  = 'IMC x Valor Anual Pago',\n",
    "                  title = dict(x=0.5),\n",
    "                  yaxis_title = 'Valor Anual Pago',\n",
    "                  xaxis = (dict(ticktext = ['Não', 'Sim'],\n",
    "                                tickvals = [0, 1])))\n",
    "\n",
    "fig.show()"
   ]
  },
  {
   "cell_type": "code",
   "execution_count": null,
   "id": "566bb626",
   "metadata": {
    "ExecuteTime": {
     "start_time": "2023-06-12T00:57:10.384Z"
    },
    "hidden": true
   },
   "outputs": [],
   "source": [
    "# calculo\n",
    "\n",
    "round(((aux.loc[aux['>=30'] == 1, 'charges'].item() / aux.loc[aux['>=30'] == 0, 'charges'].item()) - 1) * 100, 2)"
   ]
  },
  {
   "cell_type": "markdown",
   "id": "2e8783d8",
   "metadata": {
    "heading_collapsed": true
   },
   "source": [
    "### H4. Indivíduos com idade abaixo de 25 anos pagam menos que aqueles que tem idade igual ou acima de 25.\n"
   ]
  },
  {
   "cell_type": "markdown",
   "id": "65ed6641",
   "metadata": {
    "hidden": true
   },
   "source": [
    "Verdade! Pessoas com menos de 25 anos tendem a pagar menos, em média."
   ]
  },
  {
   "cell_type": "code",
   "execution_count": null,
   "id": "7e690293",
   "metadata": {
    "ExecuteTime": {
     "start_time": "2023-06-12T00:57:10.386Z"
    },
    "hidden": true
   },
   "outputs": [],
   "source": [
    "#cria dataset auxiliar\n",
    "df_temp = df2.copy()\n",
    "df_temp['<25'] = 1\n",
    "df_temp.loc[df_temp['age'] >= 25, '<25'] = 0\n",
    "aux = df_temp.groupby('<25').agg({'charges' : 'mean'}).reset_index()\n",
    "\n",
    "#cria grafico\n",
    "fig = go.Figure()\n",
    "\n",
    "fig.add_trace(go.Bar(x = aux['<25'], y=aux['charges']))\n",
    "\n",
    "fig.update_layout(xaxis_title = 'Possui idade inferior a 25 anos?',\n",
    "                  title_text  = 'Idade x Valor Anual Pago',\n",
    "                  title = dict(x=0.5),\n",
    "                  yaxis_title = 'Valor Anual Pago',\n",
    "                  xaxis = (dict(ticktext = ['Não', 'Sim'],\n",
    "                  tickvals = [0, 1])))\n",
    "\n",
    "fig.show()"
   ]
  },
  {
   "cell_type": "markdown",
   "id": "2059fcca",
   "metadata": {},
   "source": [
    "### H5. Fumantes pagam, em média, 40% a mais que pessoas não fumantes\n"
   ]
  },
  {
   "cell_type": "markdown",
   "id": "29d62652",
   "metadata": {},
   "source": [
    "Incorreto! Fumantes pagam muito mais que não fumantes. 280% a mais em média."
   ]
  },
  {
   "cell_type": "code",
   "execution_count": null,
   "id": "e07839f1",
   "metadata": {
    "ExecuteTime": {
     "start_time": "2023-06-12T00:57:10.388Z"
    }
   },
   "outputs": [],
   "source": [
    "#cria dataset auxiliar\n",
    "aux = df_temp.groupby('smoker').agg({'charges' : 'mean'}).reset_index()\n",
    "\n",
    "#cria grafico\n",
    "fig = go.Figure()\n",
    "\n",
    "fig.add_trace(go.Bar(x = aux['smoker'], y=aux['charges']))\n",
    "\n",
    "fig.update_layout(title_text = 'Fumante x Não Fumante',\n",
    "                  yaxis_title = 'Valor Anual Pago',\n",
    "                  xaxis_title = 'É Fumante?',\n",
    "                  title = dict(x = 0.5))\n",
    "\n",
    "fig.show()"
   ]
  },
  {
   "cell_type": "code",
   "execution_count": null,
   "id": "6f26f149",
   "metadata": {
    "ExecuteTime": {
     "start_time": "2023-06-12T00:57:10.389Z"
    }
   },
   "outputs": [],
   "source": [
    "# calculo\n",
    "\n",
    "round(((aux.loc[aux['smoker'] == 'yes', 'charges'].item() / aux.loc[aux['smoker'] == 'no', 'charges'].item()) - 1) * 100, 2)"
   ]
  },
  {
   "cell_type": "code",
   "execution_count": null,
   "id": "0501cb41",
   "metadata": {
    "ExecuteTime": {
     "start_time": "2023-06-12T00:57:10.399Z"
    }
   },
   "outputs": [],
   "source": [
    "#cria dataset auxiliar\n",
    "aux = df_temp.groupby(['sex', 'smoker']).agg({'charges' : 'mean'}).reset_index()\n",
    "\n",
    "# Cria o gráfico usando o Plotly\n",
    "\n",
    "fig = px.bar(aux, x = 'sex', y = 'charges', color = 'smoker', barmode='group')\n",
    "fig.update_layout(title_text = 'Comparação entre genêro, condição de fumante e valores pagos',\n",
    "                  title = dict(x=0.5),\n",
    "                  yaxis_title = 'Valor Anual Pago',\n",
    "                  xaxis_title = 'Sexo')\n",
    "\n",
    "fig.show()"
   ]
  },
  {
   "cell_type": "markdown",
   "id": "da6ae988",
   "metadata": {},
   "source": [
    "### H6. Indivíduos que moram na região 'southwest' gastam mais com seguro de saúde, em média."
   ]
  },
  {
   "cell_type": "markdown",
   "id": "c627c2fb",
   "metadata": {},
   "source": [
    "Falso. Os números são equilibrado, porém na região \"southeast\" há a tendência de se gastar mais com plano de saúde."
   ]
  },
  {
   "cell_type": "code",
   "execution_count": null,
   "id": "2ebbd3c6",
   "metadata": {
    "ExecuteTime": {
     "start_time": "2023-06-12T00:57:10.401Z"
    }
   },
   "outputs": [],
   "source": [
    "#cria dataset auxiliar\n",
    "aux = df_temp.groupby('region').agg({'charges' : 'mean'}).reset_index()\n",
    "\n",
    "#cria grafico\n",
    "fig = go.Figure()\n",
    "\n",
    "fig.add_trace(go.Bar(x = aux['region'], y=aux['charges']))\n",
    "\n",
    "fig.update_layout(title_text = 'Regiões x Valor Pago Anualmente',\n",
    "                  yaxis_title = 'Valor Anual Pago',\n",
    "                  xaxis_title = 'Região',\n",
    "                  title = dict(x = 0.5))\n",
    "\n",
    "fig.show()"
   ]
  },
  {
   "cell_type": "markdown",
   "id": "5972a3aa",
   "metadata": {},
   "source": [
    "### H7. Quanto maior o número de dependentes, maior o valor pago."
   ]
  },
  {
   "cell_type": "markdown",
   "id": "3ed0abdd",
   "metadata": {},
   "source": [
    "Falso. O número de dependentes não parece afetar tanto o valor pago pelo cliente."
   ]
  },
  {
   "cell_type": "code",
   "execution_count": null,
   "id": "63dad2a8",
   "metadata": {
    "ExecuteTime": {
     "start_time": "2023-06-12T00:57:10.419Z"
    }
   },
   "outputs": [],
   "source": [
    "aux = df_temp.groupby('children').agg({'charges' : 'mean'}).reset_index()\n",
    "\n",
    "fig = px.bar(aux, x='children', y = 'charges')\n",
    "\n",
    "fig.update_layout(title_text = 'Nº de Dependentes x Valor Anual Pago',\n",
    "                  title = dict(x = 0.5),\n",
    "                  xaxis_title = 'Nº de Dependentes',\n",
    "                  yaxis_title = 'Valor Anual Pago')\n",
    "\n",
    "fig.show()"
   ]
  },
  {
   "cell_type": "markdown",
   "id": "c2876fcd",
   "metadata": {},
   "source": [
    "## 2.3. Análise Multivariada"
   ]
  },
  {
   "cell_type": "code",
   "execution_count": null,
   "id": "d7481e57",
   "metadata": {
    "ExecuteTime": {
     "start_time": "2023-06-12T00:57:10.421Z"
    }
   },
   "outputs": [],
   "source": [
    "corr = num_attributes.corr(method='pearson')\n",
    "matrix = np.triu(corr)\n",
    "sns.heatmap(corr, annot=True, mask = matrix, center=1)"
   ]
  },
  {
   "cell_type": "markdown",
   "id": "6bb78e6a",
   "metadata": {},
   "source": [
    "# 3.0. Preparação dos Dados"
   ]
  },
  {
   "cell_type": "code",
   "execution_count": null,
   "id": "6e97c41e",
   "metadata": {
    "ExecuteTime": {
     "start_time": "2023-06-12T00:57:10.423Z"
    }
   },
   "outputs": [],
   "source": [
    "df3 = df2.copy()\n",
    "\n",
    "#split\n",
    "\n",
    "X = df3.drop(columns=['charges'])\n",
    "y = df3.charges\n",
    "\n",
    "X_train, X_test, y_train, y_test = train_test_split(X, y, test_size=0.25, random_state=42)"
   ]
  },
  {
   "cell_type": "markdown",
   "id": "5340f1bf",
   "metadata": {},
   "source": [
    "## 3.1. Transformação"
   ]
  },
  {
   "cell_type": "markdown",
   "id": "2206c51b",
   "metadata": {},
   "source": [
    "### 3.1.1 Enconding"
   ]
  },
  {
   "cell_type": "code",
   "execution_count": null,
   "id": "f4074bf6",
   "metadata": {
    "ExecuteTime": {
     "start_time": "2023-06-12T00:57:10.425Z"
    }
   },
   "outputs": [],
   "source": [
    "#target encoder para as colunas sex, smoker e region\n",
    "cols = X_test.select_dtypes(exclude=['int', 'float']).columns\n",
    "encoder = TargetEncoder()\n",
    "\n",
    "X_train[cols] = encoder.fit_transform(X_train[cols], y_train)\n",
    "X_test[cols] = encoder.transform(X_test[cols])"
   ]
  },
  {
   "cell_type": "markdown",
   "id": "c4458001",
   "metadata": {},
   "source": [
    "## 3.2. Scaling"
   ]
  },
  {
   "cell_type": "code",
   "execution_count": null,
   "id": "601dee40",
   "metadata": {
    "ExecuteTime": {
     "start_time": "2023-06-12T00:57:10.436Z"
    }
   },
   "outputs": [],
   "source": [
    "scaler = MinMaxScaler()\n",
    "X_train_scale = scaler.fit_transform(X_train)\n",
    "X_test_scale = scaler.transform(X_test)"
   ]
  },
  {
   "cell_type": "code",
   "execution_count": null,
   "id": "ab934a3d",
   "metadata": {
    "ExecuteTime": {
     "start_time": "2023-06-12T00:57:10.437Z"
    }
   },
   "outputs": [],
   "source": [
    "#adiciona nome das colunas\n",
    "\n",
    "X_train_scale = pd.DataFrame(X_train_scale, columns=X_train.columns)\n",
    "X_test_scale = pd.DataFrame(X_test_scale, columns=X_train.columns)"
   ]
  },
  {
   "cell_type": "markdown",
   "id": "31925d91",
   "metadata": {},
   "source": [
    "# 4.0. Modelagem"
   ]
  },
  {
   "cell_type": "markdown",
   "id": "4a231f24",
   "metadata": {
    "ExecuteTime": {
     "end_time": "2023-06-11T19:17:18.832804Z",
     "start_time": "2023-06-11T19:17:18.828365Z"
    }
   },
   "source": [
    "## 4.1. Regressão Linear "
   ]
  },
  {
   "cell_type": "code",
   "execution_count": null,
   "id": "7e50017a",
   "metadata": {
    "ExecuteTime": {
     "start_time": "2023-06-12T00:57:10.440Z"
    }
   },
   "outputs": [],
   "source": [
    "#cria modelo\n",
    "lr = LinearRegression()\n",
    "lr.fit(X_train_scale, y_train)\n",
    "\n",
    "#predict\n",
    "yhat_lr = lr.predict(X_train_scale)\n",
    "\n",
    "#performance sem cross-validation\n",
    "rs_lr = ml_error('Regressão Linear', y_train, yhat_lr)\n",
    "rs_lr"
   ]
  },
  {
   "cell_type": "markdown",
   "id": "609896c3",
   "metadata": {},
   "source": [
    "### 4.1.1 Regressao Linear com Cross-Validation"
   ]
  },
  {
   "cell_type": "code",
   "execution_count": null,
   "id": "a7e4938a",
   "metadata": {
    "ExecuteTime": {
     "start_time": "2023-06-12T00:57:10.441Z"
    }
   },
   "outputs": [],
   "source": [
    "rs_cv = cross_validation('Regressão Linear', lr, X_train_scale, y_train, 10)\n",
    "rs_cv"
   ]
  },
  {
   "cell_type": "markdown",
   "id": "8da27842",
   "metadata": {},
   "source": [
    "## 4.2. LASSO"
   ]
  },
  {
   "cell_type": "code",
   "execution_count": null,
   "id": "573a18f4",
   "metadata": {
    "ExecuteTime": {
     "start_time": "2023-06-12T00:57:10.443Z"
    }
   },
   "outputs": [],
   "source": [
    "#cria modelo\n",
    "lasso = Lasso(alpha=0.1)\n",
    "lasso.fit(X_train_scale, y_train)\n",
    "\n",
    "#predict\n",
    "yhat_lasso = lasso.predict(X_train_scale)\n",
    "\n",
    "#performance sem cross-validation\n",
    "rs_lasso = ml_error('LASSO', y_train, yhat_lasso)\n",
    "rs_lasso"
   ]
  },
  {
   "cell_type": "markdown",
   "id": "8ca53c37",
   "metadata": {},
   "source": [
    "### 4.2.1 LASSO com Cross-Validation"
   ]
  },
  {
   "cell_type": "code",
   "execution_count": null,
   "id": "6582b11a",
   "metadata": {
    "ExecuteTime": {
     "start_time": "2023-06-12T00:57:10.445Z"
    }
   },
   "outputs": [],
   "source": [
    "lasso_cv = cross_validation('LASSO', lasso, X_train_scale, y_train, 10)\n",
    "lasso_cv"
   ]
  },
  {
   "cell_type": "markdown",
   "id": "faed6388",
   "metadata": {},
   "source": [
    "## 4.3. Random Forest"
   ]
  },
  {
   "cell_type": "code",
   "execution_count": null,
   "id": "3c4637ef",
   "metadata": {
    "ExecuteTime": {
     "start_time": "2023-06-12T00:57:10.446Z"
    }
   },
   "outputs": [],
   "source": [
    "#cria modelo\n",
    "rf = RandomForestRegressor(n_estimators=200, n_jobs=-1, random_state=42)\n",
    "rf.fit(X_train_scale, y_train)\n",
    "\n",
    "#predict\n",
    "yhat_rf = rf.predict(X_train_scale)\n",
    "\n",
    "#performance sem cross-validation\n",
    "rs_rf = ml_error('Random Forest', y_train, yhat_rf)\n",
    "rs_rf"
   ]
  },
  {
   "cell_type": "markdown",
   "id": "742f66b2",
   "metadata": {
    "ExecuteTime": {
     "end_time": "2023-06-11T19:21:14.344782Z",
     "start_time": "2023-06-11T19:21:14.337746Z"
    }
   },
   "source": [
    "### 4.3.1 Random Forest com Cross-Validation"
   ]
  },
  {
   "cell_type": "code",
   "execution_count": null,
   "id": "5e5e6485",
   "metadata": {
    "ExecuteTime": {
     "start_time": "2023-06-12T00:57:10.460Z"
    }
   },
   "outputs": [],
   "source": [
    "rf_cv = cross_validation('Random Forest', rf, X_train_scale, y_train, 10)\n",
    "rf_cv"
   ]
  },
  {
   "cell_type": "markdown",
   "id": "413d7053",
   "metadata": {},
   "source": [
    "## 4.4. XGBoost Regressor"
   ]
  },
  {
   "cell_type": "code",
   "execution_count": null,
   "id": "9ba81a66",
   "metadata": {
    "ExecuteTime": {
     "start_time": "2023-06-12T00:57:10.462Z"
    }
   },
   "outputs": [],
   "source": [
    "#cria modelo\n",
    "xgb = XGBRegressor(n_estimators=450,\n",
    "                   eta = 0.01,\n",
    "                   max_depth=10,\n",
    "                   subsample = 0.7,\n",
    "                   colsample_bytree = 0.9,\n",
    "                   random_state = 42)\n",
    "\n",
    "xgb.fit(X_train_scale, y_train)\n",
    "\n",
    "#predict\n",
    "yhat_xgb = xgb.predict(X_train_scale)\n",
    "\n",
    "#performance sem cross-validation\n",
    "rs_xgb = ml_error('XGBoost', y_train, yhat_xgb)\n",
    "rs_xgb"
   ]
  },
  {
   "cell_type": "markdown",
   "id": "29f2e659",
   "metadata": {},
   "source": [
    "### 4.4.1 XGBoost com Cross-Validation"
   ]
  },
  {
   "cell_type": "code",
   "execution_count": null,
   "id": "2345cfb2",
   "metadata": {
    "ExecuteTime": {
     "start_time": "2023-06-12T00:57:10.463Z"
    }
   },
   "outputs": [],
   "source": [
    "xgb_cv = cross_validation('XGBoost', xgb, X_train_scale, y_train, 10)\n",
    "xgb_cv"
   ]
  },
  {
   "cell_type": "markdown",
   "id": "725c7274",
   "metadata": {},
   "source": [
    "## 4.5. Comparação entre os modelos"
   ]
  },
  {
   "cell_type": "markdown",
   "id": "8b7ed0da",
   "metadata": {},
   "source": [
    "### 4.5.1. Sem cross validation"
   ]
  },
  {
   "cell_type": "code",
   "execution_count": null,
   "id": "2696aa00",
   "metadata": {
    "ExecuteTime": {
     "start_time": "2023-06-12T00:57:10.464Z"
    }
   },
   "outputs": [],
   "source": [
    "models_results = pd.concat([rs_lr, rs_lasso, rs_rf, rs_xgb]).sort_values('RMSE')\n",
    "models_results"
   ]
  },
  {
   "cell_type": "markdown",
   "id": "8f3adcef",
   "metadata": {},
   "source": [
    "### 4.5.2. Com cross validation"
   ]
  },
  {
   "cell_type": "code",
   "execution_count": null,
   "id": "2a46df63",
   "metadata": {
    "ExecuteTime": {
     "start_time": "2023-06-12T00:57:10.465Z"
    }
   },
   "outputs": [],
   "source": [
    "models_results_cv = pd.concat([rs_cv, lasso_cv, rf_cv, xgb_cv]).sort_values('RMSE')\n",
    "models_results_cv"
   ]
  },
  {
   "cell_type": "markdown",
   "id": "1da5aa91",
   "metadata": {},
   "source": [
    "## 4.6 Final Model - Evaluation on test set"
   ]
  },
  {
   "cell_type": "code",
   "execution_count": null,
   "id": "c52581b9",
   "metadata": {
    "ExecuteTime": {
     "start_time": "2023-06-12T00:57:10.468Z"
    }
   },
   "outputs": [],
   "source": [
    "predicoes = rf.predict(X_test_scale)\n",
    "\n",
    "rs = ml_error('Random Forest', y_test, predicoes)\n",
    "rs"
   ]
  },
  {
   "cell_type": "markdown",
   "id": "e92efc93",
   "metadata": {},
   "source": [
    "# Valores reais X Predições"
   ]
  },
  {
   "cell_type": "code",
   "execution_count": null,
   "id": "448b54c2",
   "metadata": {
    "ExecuteTime": {
     "start_time": "2023-06-12T00:57:10.470Z"
    }
   },
   "outputs": [],
   "source": [
    "plt.figure(figsize=(5,5))\n",
    "plt.scatter(y_test, predicoes, c='crimson')\n",
    "\n",
    "p1 = max(max(predicoes), max(y_test))\n",
    "p2 = min(min(predicoes), min(y_test))\n",
    "plt.plot([p1, p2], [p1, p2], 'b-')\n",
    "plt.xlabel('Valores Reais', fontsize=15)\n",
    "plt.ylabel('Predições', fontsize=15)\n",
    "plt.axis('equal')\n",
    "plt.show()"
   ]
  },
  {
   "cell_type": "code",
   "execution_count": null,
   "id": "545c25c4",
   "metadata": {
    "ExecuteTime": {
     "start_time": "2023-06-12T00:57:10.471Z"
    },
    "scrolled": true
   },
   "outputs": [],
   "source": [
    "plt.figure(figsize=(20,6))\n",
    "values = y_test.reset_index(drop=True).index.values\n",
    "\n",
    "ax = sns.lineplot(x = values, y = y_test, color = 'r', label = 'Valores Reais')\n",
    "sns.lineplot(x = values, y = predicoes, ax=ax, label = 'Predições')\n",
    "plt.show()"
   ]
  },
  {
   "cell_type": "code",
   "execution_count": null,
   "id": "eb229cf9",
   "metadata": {
    "ExecuteTime": {
     "start_time": "2023-06-12T00:57:10.472Z"
    }
   },
   "outputs": [],
   "source": [
    "#final model\n",
    "#Random Forest\t MAE 2625.4922\t MAPE 0.2934\t RMSE 4784.5324"
   ]
  },
  {
   "cell_type": "code",
   "execution_count": null,
   "id": "05aebce7",
   "metadata": {},
   "outputs": [],
   "source": []
  },
  {
   "cell_type": "code",
   "execution_count": null,
   "id": "4c15cf5c",
   "metadata": {},
   "outputs": [],
   "source": []
  }
 ],
 "metadata": {
  "kernelspec": {
   "display_name": "Python 3 (ipykernel)",
   "language": "python",
   "name": "python3"
  },
  "language_info": {
   "codemirror_mode": {
    "name": "ipython",
    "version": 3
   },
   "file_extension": ".py",
   "mimetype": "text/x-python",
   "name": "python",
   "nbconvert_exporter": "python",
   "pygments_lexer": "ipython3",
   "version": "3.9.12"
  },
  "varInspector": {
   "cols": {
    "lenName": 16,
    "lenType": 16,
    "lenVar": 40
   },
   "kernels_config": {
    "python": {
     "delete_cmd_postfix": "",
     "delete_cmd_prefix": "del ",
     "library": "var_list.py",
     "varRefreshCmd": "print(var_dic_list())"
    },
    "r": {
     "delete_cmd_postfix": ") ",
     "delete_cmd_prefix": "rm(",
     "library": "var_list.r",
     "varRefreshCmd": "cat(var_dic_list()) "
    }
   },
   "types_to_exclude": [
    "module",
    "function",
    "builtin_function_or_method",
    "instance",
    "_Feature"
   ],
   "window_display": false
  }
 },
 "nbformat": 4,
 "nbformat_minor": 5
}
